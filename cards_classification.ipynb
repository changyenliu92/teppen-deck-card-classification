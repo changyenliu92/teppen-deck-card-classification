{
 "metadata": {
  "language_info": {
   "codemirror_mode": {
    "name": "ipython",
    "version": 3
   },
   "file_extension": ".py",
   "mimetype": "text/x-python",
   "name": "python",
   "nbconvert_exporter": "python",
   "pygments_lexer": "ipython3",
   "version": "3.7.7-final"
  },
  "orig_nbformat": 2,
  "kernelspec": {
   "name": "python377jvsc74a57bd0f36853175616511a79d3c1be6041da75e3b332109cdd6d044f697079f3942fe4",
   "display_name": "Python 3.7.7 64-bit ('tf-gpu': conda)"
  }
 },
 "nbformat": 4,
 "nbformat_minor": 2,
 "cells": [
  {
   "source": [
    "# Training \n",
    "# - Loading images \n",
    "# - Build a simple CNN model and perform training\n",
    "# - Deployment of model (waiting for AWS work account to activate first)"
   ],
   "cell_type": "markdown",
   "metadata": {}
  },
  {
   "cell_type": "code",
   "execution_count": 1,
   "metadata": {},
   "outputs": [],
   "source": [
    "import matplotlib.pyplot as plt\n",
    "import numpy as np\n",
    "import os\n",
    "import tensorflow as tf\n",
    "from tensorflow.keras.preprocessing import image_dataset_from_directory\n",
    "from tensorflow.keras import layers\n",
    "from tensorflow.keras.models import Sequential"
   ]
  },
  {
   "cell_type": "code",
   "execution_count": 2,
   "metadata": {},
   "outputs": [
    {
     "output_type": "stream",
     "name": "stdout",
     "text": [
      "d:\\Work\\IMDA\\capstone project\\projects\\CardPrediction\n"
     ]
    }
   ],
   "source": [
    "# path variables\n",
    "PROJ_PATH = os.path.abspath(os.curdir)\n",
    "PATH_TRAIN_DIR = os.path.join(PROJ_PATH, 'dataset\\\\train')\n",
    "print(PROJ_PATH)"
   ]
  },
  {
   "cell_type": "code",
   "execution_count": 3,
   "metadata": {},
   "outputs": [
    {
     "output_type": "stream",
     "name": "stdout",
     "text": [
      "Found 1260 files belonging to 12 classes.\n",
      "Using 1008 files for training.\n",
      "Found 1260 files belonging to 12 classes.\n",
      "Using 252 files for validation.\n"
     ]
    }
   ],
   "source": [
    "# load data from training folder, split 80% as training, 20% as validation\n",
    "BATCH_SIZE = 64\n",
    "IMG_SIZE = (160, 160)\n",
    "EPOCHS = 10\n",
    "\n",
    "train = image_dataset_from_directory(\n",
    "    PATH_TRAIN_DIR, \n",
    "    labels='inferred', \n",
    "    shuffle=True, \n",
    "    batch_size=BATCH_SIZE, \n",
    "    image_size=IMG_SIZE,\n",
    "    validation_split=0.2,\n",
    "    subset='training',\n",
    "    seed=23\n",
    "    )\n",
    "    \n",
    "validation = image_dataset_from_directory(\n",
    "    PATH_TRAIN_DIR, \n",
    "    labels='inferred', \n",
    "    shuffle=True, \n",
    "    batch_size=BATCH_SIZE, \n",
    "    image_size=IMG_SIZE,\n",
    "    validation_split=0.2,\n",
    "    subset='validation',\n",
    "    seed=23\n",
    "    )\n",
    "\n",
    "num_of_classes = len(train.class_names)\n",
    "\n",
    "# apply bufferred prefetching to improve training performance\n",
    "AUTOTUNE = tf.data.AUTOTUNE\n",
    "train = train.prefetch(buffer_size=AUTOTUNE)\n",
    "validation = validation.prefetch(buffer_size=AUTOTUNE)"
   ]
  },
  {
   "cell_type": "code",
   "execution_count": 11,
   "metadata": {},
   "outputs": [
    {
     "output_type": "stream",
     "name": "stdout",
     "text": [
      "Epoch 1/10\n",
      "16/16 [==============================] - 6s 321ms/step - loss: 2.2974 - accuracy: 0.2133 - val_loss: 0.8433 - val_accuracy: 1.0000\n",
      "Epoch 2/10\n",
      "16/16 [==============================] - 6s 318ms/step - loss: 0.7631 - accuracy: 0.8274 - val_loss: 0.0281 - val_accuracy: 1.0000\n",
      "Epoch 3/10\n",
      "16/16 [==============================] - 6s 321ms/step - loss: 0.1670 - accuracy: 0.9459 - val_loss: 0.0044 - val_accuracy: 1.0000\n",
      "Epoch 4/10\n",
      "16/16 [==============================] - 6s 324ms/step - loss: 0.0799 - accuracy: 0.9709 - val_loss: 0.0064 - val_accuracy: 1.0000\n",
      "Epoch 5/10\n",
      "16/16 [==============================] - 6s 318ms/step - loss: 0.0487 - accuracy: 0.9876 - val_loss: 4.4921e-04 - val_accuracy: 1.0000\n",
      "Epoch 6/10\n",
      "16/16 [==============================] - 6s 326ms/step - loss: 0.0311 - accuracy: 0.9937 - val_loss: 1.5411e-04 - val_accuracy: 1.0000\n",
      "Epoch 7/10\n",
      "16/16 [==============================] - 6s 322ms/step - loss: 0.0291 - accuracy: 0.9935 - val_loss: 3.0394e-04 - val_accuracy: 1.0000\n",
      "Epoch 8/10\n",
      "16/16 [==============================] - 6s 327ms/step - loss: 0.0370 - accuracy: 0.9909 - val_loss: 3.2582e-04 - val_accuracy: 1.0000\n",
      "Epoch 9/10\n",
      "16/16 [==============================] - 6s 330ms/step - loss: 0.0225 - accuracy: 0.9938 - val_loss: 1.4087e-04 - val_accuracy: 1.0000\n",
      "Epoch 10/10\n",
      "16/16 [==============================] - 6s 325ms/step - loss: 0.0283 - accuracy: 0.9892 - val_loss: 1.4628e-04 - val_accuracy: 1.0000\n"
     ]
    }
   ],
   "source": [
    "# create model\n",
    "model = Sequential([\n",
    "  layers.experimental.preprocessing.Rescaling(1./255, input_shape=(160, 160, 3)),\n",
    "  layers.Conv2D(8, 3, padding='same', activation='relu'),\n",
    "  layers.MaxPooling2D(),\n",
    "  layers.Conv2D(16, 3, padding='same', activation='relu'),\n",
    "  layers.MaxPooling2D(),\n",
    "  layers.Conv2D(32, 3, padding='same', activation='relu'),\n",
    "  layers.MaxPooling2D(),\n",
    "  layers.Flatten(),\n",
    "  layers.Dense(128, activation='relu'),\n",
    "  layers.Dropout(0.2),\n",
    "  layers.Dense(32, activation='relu'),\n",
    "  layers.Dropout(0.2),\n",
    "  layers.Dense(num_of_classes)\n",
    "])\n",
    "\n",
    "# compile model and train\n",
    "model.compile(optimizer='adam',\n",
    "              loss=tf.keras.losses.SparseCategoricalCrossentropy(from_logits=True),\n",
    "              metrics=['accuracy'])\n",
    "\n",
    "history = model.fit(\n",
    "  train,\n",
    "  validation_data=validation,\n",
    "  epochs=EPOCHS\n",
    ")"
   ]
  },
  {
   "cell_type": "code",
   "execution_count": 16,
   "metadata": {},
   "outputs": [
    {
     "output_type": "stream",
     "name": "stdout",
     "text": [
      "4/4 [==============================] - 1s 76ms/step - loss: 1.4628e-04 - accuracy: 1.0000\n",
      "[validation] loss: 0.00014628292410634458  accuracy: 1.0\n"
     ]
    }
   ],
   "source": [
    "score = model.evaluate(validation)\n",
    "print('[validation] loss:', score[0], ' accuracy:', score[1])"
   ]
  },
  {
   "source": [
    "## Visualization"
   ],
   "cell_type": "markdown",
   "metadata": {}
  },
  {
   "cell_type": "code",
   "execution_count": 15,
   "metadata": {},
   "outputs": [
    {
     "output_type": "stream",
     "name": "stdout",
     "text": [
      "Loading training dataset...\n",
      "Completed!\n",
      "Performing prediction...\n",
      "*******************\n",
      "Input image CHUN-LI 001.png\n",
      "predicted : CHUN-LI 001\n",
      "*******************\n",
      "Input image CHUN-LI 002.png\n",
      "predicted : CHUN-LI 002\n",
      "*******************\n",
      "Input image CHUN-LI 003.png\n",
      "predicted : CHUN-LI 003\n",
      "*******************\n",
      "Input image CHUN-LI 004.png\n",
      "predicted : CHUN-LI 004\n",
      "*******************\n",
      "Input image CHUN-LI 005.png\n",
      "predicted : CHUN-LI 005\n",
      "*******************\n",
      "Input image CHUN-LI 006.png\n",
      "predicted : CHUN-LI 006\n",
      "*******************\n",
      "Input image CHUN-LI 007.png\n",
      "predicted : CHUN-LI 007\n",
      "*******************\n",
      "Input image CHUN-LI 008.png\n",
      "predicted : CHUN-LI 008\n",
      "*******************\n",
      "Input image CHUN-LI 009.png\n",
      "predicted : CHUN-LI 009\n",
      "*******************\n",
      "Input image CHUN-LI 010.png\n",
      "predicted : CHUN-LI 010\n",
      "*******************\n",
      "Input image CHUN-LI 011.png\n",
      "predicted : CHUN-LI 011\n",
      "*******************\n",
      "Input image CHUN-LI 012.png\n",
      "predicted : CHUN-LI 012\n",
      "*******************\n",
      "Input image CHUN-LI 013.png\n",
      "predicted : CHUN-LI 010\n",
      "Completed!\n"
     ]
    }
   ],
   "source": [
    "PATH_TRAIN_DIR = PROJ_PATH + '\\\\dataset\\\\train\\\\'\n",
    "PATH_IMG_DIR = PROJ_PATH + '\\\\dataset\\\\images\\\\'\n",
    "\n",
    "labels = []\n",
    "print('Loading training dataset...')\n",
    "for index, directory in enumerate(os.listdir(PATH_TRAIN_DIR)):\n",
    "    labels.append(directory)\n",
    "print('Completed!')\n",
    "\n",
    "def prediction(card_path):\n",
    "    img = tf.keras.preprocessing.image.load_img(\n",
    "        card_path, target_size=(160, 160)\n",
    "    )\n",
    "    #plt.figure()\n",
    "    #plt.imshow(img)\n",
    "    img_array = tf.keras.preprocessing.image.img_to_array(img)\n",
    "    img_array = tf.expand_dims(img_array, 0) # Create a batch\n",
    "\n",
    "    prediction = model.predict(img_array)\n",
    "    print('predicted : ' + labels[np.argmax(prediction)])\n",
    "\n",
    "#prediction(PATH_TRAIN_DIR+'CHUN-LI 001/CHUN-LI 001_0_2.png')\n",
    "\n",
    "print('Performing prediction...')\n",
    "for index, filename in enumerate(os.listdir(PATH_IMG_DIR)):\n",
    "    print(\"*******************\")\n",
    "    print('Input image ' + filename)\n",
    "    prediction(card_path = PATH_IMG_DIR + filename)\n",
    "print('Completed!')"
   ]
  },
  {
   "cell_type": "code",
   "execution_count": null,
   "metadata": {},
   "outputs": [],
   "source": []
  }
 ]
}