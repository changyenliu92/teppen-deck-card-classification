{
 "metadata": {
  "language_info": {
   "codemirror_mode": {
    "name": "ipython",
    "version": 3
   },
   "file_extension": ".py",
   "mimetype": "text/x-python",
   "name": "python",
   "nbconvert_exporter": "python",
   "pygments_lexer": "ipython3",
   "version": "3.7.10"
  },
  "orig_nbformat": 2,
  "kernelspec": {
   "name": "python3710jvsc74a57bd0f36853175616511a79d3c1be6041da75e3b332109cdd6d044f697079f3942fe4",
   "display_name": "Python 3.7.10 64-bit ('tf-gpu': conda)"
  },
  "metadata": {
   "interpreter": {
    "hash": "63fd5069d213b44bf678585dea6b12cceca9941eaf7f819626cde1f2670de90d"
   }
  }
 },
 "nbformat": 4,
 "nbformat_minor": 2,
 "cells": [
  {
   "source": [
    "# Training \n",
    "# - Loading images \n",
    "# - Build a simple CNN model and perform training\n",
    "# - Deployment of model (waiting for AWS work account to activate first)"
   ],
   "cell_type": "markdown",
   "metadata": {}
  },
  {
   "cell_type": "code",
   "execution_count": 1,
   "metadata": {},
   "outputs": [],
   "source": [
    "# import matplotlib.pyplot as plt # not used at the moment\n",
    "import PIL\n",
    "import numpy as np\n",
    "import os\n",
    "import tensorflow as tf\n",
    "from tensorflow.keras.preprocessing import image_dataset_from_directory\n",
    "from tensorflow.keras import layers\n",
    "from tensorflow.keras.models import Sequential"
   ]
  },
  {
   "cell_type": "code",
   "execution_count": 2,
   "metadata": {},
   "outputs": [
    {
     "output_type": "stream",
     "name": "stdout",
     "text": [
      "d:\\Work\\Personal projects\\teppen-deck-card-classification\n"
     ]
    }
   ],
   "source": [
    "# path variables\n",
    "PROJ_PATH = os.path.abspath(os.curdir)\n",
    "PATH_TRAIN_DIR = os.path.join(PROJ_PATH, 'dataset\\\\train\\\\')\n",
    "print(PROJ_PATH)"
   ]
  },
  {
   "source": [
    "## Set up parameters and load images to split into training and validation set"
   ],
   "cell_type": "markdown",
   "metadata": {}
  },
  {
   "cell_type": "code",
   "execution_count": 3,
   "metadata": {},
   "outputs": [
    {
     "output_type": "stream",
     "name": "stdout",
     "text": [
      "Found 1365 files belonging to 13 classes.\n",
      "Using 1092 files for training.\n",
      "Found 1365 files belonging to 13 classes.\n",
      "Using 273 files for validation.\n"
     ]
    }
   ],
   "source": [
    "# load data from training folder, split 80% as training, 20% as validation\n",
    "BATCH_SIZE = 64\n",
    "IMG_SIZE = (160, 160)\n",
    "EPOCHS = 10\n",
    "\n",
    "train = image_dataset_from_directory(\n",
    "    PATH_TRAIN_DIR, \n",
    "    labels='inferred', \n",
    "    shuffle=True, \n",
    "    batch_size=BATCH_SIZE, \n",
    "    image_size=IMG_SIZE,\n",
    "    validation_split=0.2,\n",
    "    subset='training',\n",
    "    seed=23\n",
    "    )\n",
    "    \n",
    "validation = image_dataset_from_directory(\n",
    "    PATH_TRAIN_DIR, \n",
    "    labels='inferred', \n",
    "    shuffle=True, \n",
    "    batch_size=BATCH_SIZE, \n",
    "    image_size=IMG_SIZE,\n",
    "    validation_split=0.2,\n",
    "    subset='validation',\n",
    "    seed=23\n",
    "    )\n",
    "\n",
    "num_of_classes = len(train.class_names)\n",
    "\n",
    "# apply bufferred prefetching to improve training performance\n",
    "AUTOTUNE = tf.data.AUTOTUNE\n",
    "train = train.prefetch(buffer_size=AUTOTUNE)\n",
    "validation = validation.prefetch(buffer_size=AUTOTUNE)"
   ]
  },
  {
   "source": [
    "## Build model and start training"
   ],
   "cell_type": "markdown",
   "metadata": {}
  },
  {
   "cell_type": "code",
   "execution_count": 4,
   "metadata": {},
   "outputs": [
    {
     "output_type": "stream",
     "name": "stdout",
     "text": [
      "Epoch 1/10\n",
      "18/18 [==============================] - 9s 394ms/step - loss: 2.3233 - accuracy: 0.2451 - val_loss: 0.8611 - val_accuracy: 0.9377\n",
      "Epoch 2/10\n",
      "18/18 [==============================] - 7s 347ms/step - loss: 0.8478 - accuracy: 0.7420 - val_loss: 0.0528 - val_accuracy: 1.0000\n",
      "Epoch 3/10\n",
      "18/18 [==============================] - 8s 364ms/step - loss: 0.2103 - accuracy: 0.9362 - val_loss: 0.0023 - val_accuracy: 1.0000\n",
      "Epoch 4/10\n",
      "18/18 [==============================] - 8s 347ms/step - loss: 0.0846 - accuracy: 0.9699 - val_loss: 6.4810e-04 - val_accuracy: 1.0000\n",
      "Epoch 5/10\n",
      "18/18 [==============================] - 7s 351ms/step - loss: 0.0439 - accuracy: 0.9835 - val_loss: 3.6457e-04 - val_accuracy: 1.0000\n",
      "Epoch 6/10\n",
      "18/18 [==============================] - 8s 362ms/step - loss: 0.0410 - accuracy: 0.9909 - val_loss: 3.5073e-04 - val_accuracy: 1.0000\n",
      "Epoch 7/10\n",
      "18/18 [==============================] - 8s 372ms/step - loss: 0.0227 - accuracy: 0.9922 - val_loss: 8.7090e-05 - val_accuracy: 1.0000\n",
      "Epoch 8/10\n",
      "18/18 [==============================] - 9s 419ms/step - loss: 0.0341 - accuracy: 0.9907 - val_loss: 4.8506e-04 - val_accuracy: 1.0000\n",
      "Epoch 9/10\n",
      "18/18 [==============================] - 9s 422ms/step - loss: 0.0273 - accuracy: 0.9870 - val_loss: 9.0103e-05 - val_accuracy: 1.0000\n",
      "Epoch 10/10\n",
      "18/18 [==============================] - 8s 379ms/step - loss: 0.0211 - accuracy: 0.9925 - val_loss: 1.1235e-04 - val_accuracy: 1.0000\n"
     ]
    }
   ],
   "source": [
    "# create convolutional neural network model\n",
    "model = Sequential([\n",
    "  layers.experimental.preprocessing.Rescaling(1./255, input_shape=(160, 160, 3)),\n",
    "  layers.Conv2D(8, 3, padding='same', activation='relu'),\n",
    "  layers.MaxPooling2D(),\n",
    "  layers.Conv2D(16, 3, padding='same', activation='relu'),\n",
    "  layers.MaxPooling2D(),\n",
    "  layers.Conv2D(32, 3, padding='same', activation='relu'),\n",
    "  layers.MaxPooling2D(),\n",
    "  layers.Flatten(),\n",
    "  layers.Dense(128, activation='relu'),\n",
    "  layers.Dropout(0.2),\n",
    "  layers.Dense(32, activation='relu'),\n",
    "  layers.Dropout(0.2),\n",
    "  layers.Dense(num_of_classes)\n",
    "])\n",
    "\n",
    "# compile model and train\n",
    "model.compile(optimizer='adam',\n",
    "              loss=tf.keras.losses.SparseCategoricalCrossentropy(from_logits=True),\n",
    "              metrics=['accuracy'])\n",
    "\n",
    "history = model.fit(\n",
    "  train,\n",
    "  validation_data=validation,\n",
    "  epochs=EPOCHS\n",
    ")"
   ]
  },
  {
   "cell_type": "code",
   "execution_count": 5,
   "metadata": {},
   "outputs": [
    {
     "output_type": "stream",
     "name": "stdout",
     "text": [
      "5/5 [==============================] - 1s 94ms/step - loss: 1.1235e-04 - accuracy: 1.0000\n",
      "[validation] loss: 0.00011235338752157986  accuracy: 1.0\n"
     ]
    }
   ],
   "source": [
    "score = model.evaluate(validation)\n",
    "print('[validation] loss:', score[0], ' accuracy:', score[1])"
   ]
  },
  {
   "source": [
    "## Test model's performance by using the original 13 images used for data augmentation"
   ],
   "cell_type": "markdown",
   "metadata": {}
  },
  {
   "cell_type": "code",
   "execution_count": 6,
   "metadata": {},
   "outputs": [
    {
     "output_type": "stream",
     "name": "stdout",
     "text": [
      "Requirement already satisfied: pillow in c:\\users\\markl\\anaconda3\\envs\\tf-gpu\\lib\\site-packages (8.2.0)Note: you may need to restart the kernel to use updated packages.\n",
      "\n"
     ]
    }
   ],
   "source": [
    "pip install pillow"
   ]
  },
  {
   "cell_type": "code",
   "execution_count": 7,
   "metadata": {},
   "outputs": [
    {
     "output_type": "stream",
     "name": "stdout",
     "text": [
      "Loading training dataset...\n",
      "Completed!\n",
      "Performing classification...\n",
      "*******************\n",
      "Input image CHUN-LI 001.png\n",
      "class : CHUN-LI 001\n",
      "*******************\n",
      "Input image CHUN-LI 002.png\n",
      "class : CHUN-LI 002\n",
      "*******************\n",
      "Input image CHUN-LI 003.png\n",
      "class : CHUN-LI 003\n",
      "*******************\n",
      "Input image CHUN-LI 004.png\n",
      "class : CHUN-LI 004\n",
      "*******************\n",
      "Input image CHUN-LI 005.png\n",
      "class : CHUN-LI 005\n",
      "*******************\n",
      "Input image CHUN-LI 006.png\n",
      "class : CHUN-LI 006\n",
      "*******************\n",
      "Input image CHUN-LI 007.png\n",
      "class : CHUN-LI 007\n",
      "*******************\n",
      "Input image CHUN-LI 008.png\n",
      "class : CHUN-LI 008\n",
      "*******************\n",
      "Input image CHUN-LI 009.png\n",
      "class : CHUN-LI 009\n",
      "*******************\n",
      "Input image CHUN-LI 010.png\n",
      "class : CHUN-LI 010\n",
      "*******************\n",
      "Input image CHUN-LI 011.png\n",
      "class : CHUN-LI 011\n",
      "*******************\n",
      "Input image CHUN-LI 012.png\n",
      "class : CHUN-LI 012\n",
      "*******************\n",
      "Input image CHUN-LI 013.png\n",
      "class : CHUN-LI 013\n",
      "Completed!\n"
     ]
    }
   ],
   "source": [
    "from tensorflow.keras.preprocessing.image import load_img\n",
    "PATH_TRAIN_DIR = PROJ_PATH + '\\\\dataset\\\\train\\\\'\n",
    "PATH_IMG_DIR = PROJ_PATH + '\\\\dataset\\\\images\\\\'\n",
    "\n",
    "labels = []\n",
    "print('Loading training dataset...')\n",
    "for index, directory in enumerate(os.listdir(PATH_TRAIN_DIR)):\n",
    "    labels.append(directory)\n",
    "print('Completed!')\n",
    "\n",
    "def prediction(card_path):\n",
    "    img = load_img(\n",
    "        card_path, target_size=(160, 160)\n",
    "    )\n",
    "    #plt.figure()\n",
    "    #plt.imshow(img)\n",
    "    img_array = tf.keras.preprocessing.image.img_to_array(img)\n",
    "    img_array = tf.expand_dims(img_array, 0) # Create a batch\n",
    "\n",
    "    prediction = model.predict(img_array)\n",
    "    print('class : ' + labels[np.argmax(prediction)])\n",
    "\n",
    "print('Performing classification...')\n",
    "for index, filename in enumerate(os.listdir(PATH_IMG_DIR)):\n",
    "    print(\"*******************\")\n",
    "    print('Input image ' + filename)\n",
    "    prediction(card_path = PATH_IMG_DIR + filename)\n",
    "print('Completed!')"
   ]
  },
  {
   "cell_type": "code",
   "execution_count": null,
   "metadata": {},
   "outputs": [],
   "source": []
  }
 ]
}