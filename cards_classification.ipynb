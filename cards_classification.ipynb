{
 "metadata": {
  "language_info": {
   "codemirror_mode": {
    "name": "ipython",
    "version": 3
   },
   "file_extension": ".py",
   "mimetype": "text/x-python",
   "name": "python",
   "nbconvert_exporter": "python",
   "pygments_lexer": "ipython3",
   "version": "3.7.7"
  },
  "orig_nbformat": 2,
  "kernelspec": {
   "name": "python377jvsc74a57bd0f36853175616511a79d3c1be6041da75e3b332109cdd6d044f697079f3942fe4",
   "display_name": "Python 3.7.7 64-bit ('tf-gpu': conda)"
  },
  "metadata": {
   "interpreter": {
    "hash": "63fd5069d213b44bf678585dea6b12cceca9941eaf7f819626cde1f2670de90d"
   }
  }
 },
 "nbformat": 4,
 "nbformat_minor": 2,
 "cells": [
  {
   "source": [
    "# Training \n",
    "# - Loading images \n",
    "# - Build a simple CNN model and perform training\n",
    "# - Deployment of model (waiting for AWS work account to activate first)"
   ],
   "cell_type": "markdown",
   "metadata": {}
  },
  {
   "cell_type": "code",
   "execution_count": 22,
   "metadata": {},
   "outputs": [],
   "source": [
    "# import matplotlib.pyplot as plt # not used at the moment\n",
    "import PIL\n",
    "import numpy as np\n",
    "import os\n",
    "import tensorflow as tf\n",
    "from tensorflow.keras.preprocessing import image_dataset_from_directory\n",
    "from tensorflow.keras import layers\n",
    "from tensorflow.keras.models import Sequential"
   ]
  },
  {
   "cell_type": "code",
   "execution_count": 23,
   "metadata": {},
   "outputs": [
    {
     "output_type": "stream",
     "name": "stdout",
     "text": [
      "d:\\Work\\Personal projects\\teppen-deck-predict\n"
     ]
    }
   ],
   "source": [
    "# path variables\n",
    "PROJ_PATH = os.path.abspath(os.curdir)\n",
    "PATH_TRAIN_DIR = os.path.join(PROJ_PATH, 'dataset\\\\train\\\\')\n",
    "print(PROJ_PATH)"
   ]
  },
  {
   "source": [
    "## Set up parameters and load images to split into training and validation set"
   ],
   "cell_type": "markdown",
   "metadata": {}
  },
  {
   "cell_type": "code",
   "execution_count": 24,
   "metadata": {},
   "outputs": [
    {
     "output_type": "stream",
     "name": "stdout",
     "text": [
      "Found 1250 files belonging to 12 classes.\nUsing 1000 files for training.\nFound 1250 files belonging to 12 classes.\nUsing 250 files for validation.\n"
     ]
    }
   ],
   "source": [
    "# load data from training folder, split 80% as training, 20% as validation\n",
    "BATCH_SIZE = 64\n",
    "IMG_SIZE = (160, 160)\n",
    "EPOCHS = 10\n",
    "\n",
    "train = image_dataset_from_directory(\n",
    "    PATH_TRAIN_DIR, \n",
    "    labels='inferred', \n",
    "    shuffle=True, \n",
    "    batch_size=BATCH_SIZE, \n",
    "    image_size=IMG_SIZE,\n",
    "    validation_split=0.2,\n",
    "    subset='training',\n",
    "    seed=23\n",
    "    )\n",
    "    \n",
    "validation = image_dataset_from_directory(\n",
    "    PATH_TRAIN_DIR, \n",
    "    labels='inferred', \n",
    "    shuffle=True, \n",
    "    batch_size=BATCH_SIZE, \n",
    "    image_size=IMG_SIZE,\n",
    "    validation_split=0.2,\n",
    "    subset='validation',\n",
    "    seed=23\n",
    "    )\n",
    "\n",
    "num_of_classes = len(train.class_names)\n",
    "\n",
    "# apply bufferred prefetching to improve training performance\n",
    "AUTOTUNE = tf.data.AUTOTUNE\n",
    "train = train.prefetch(buffer_size=AUTOTUNE)\n",
    "validation = validation.prefetch(buffer_size=AUTOTUNE)"
   ]
  },
  {
   "source": [
    "## Build model and start training"
   ],
   "cell_type": "markdown",
   "metadata": {}
  },
  {
   "cell_type": "code",
   "execution_count": 25,
   "metadata": {},
   "outputs": [
    {
     "output_type": "stream",
     "name": "stdout",
     "text": [
      "Epoch 1/10\n",
      "16/16 [==============================] - 7s 330ms/step - loss: 2.3119 - accuracy: 0.1943 - val_loss: 1.0258 - val_accuracy: 1.0000\n",
      "Epoch 2/10\n",
      "16/16 [==============================] - 6s 318ms/step - loss: 0.9499 - accuracy: 0.7739 - val_loss: 0.0349 - val_accuracy: 1.0000\n",
      "Epoch 3/10\n",
      "16/16 [==============================] - 6s 324ms/step - loss: 0.1791 - accuracy: 0.9568 - val_loss: 0.0022 - val_accuracy: 1.0000\n",
      "Epoch 4/10\n",
      "16/16 [==============================] - 6s 313ms/step - loss: 0.0897 - accuracy: 0.9747 - val_loss: 4.2469e-04 - val_accuracy: 1.0000\n",
      "Epoch 5/10\n",
      "16/16 [==============================] - 6s 325ms/step - loss: 0.0935 - accuracy: 0.9714 - val_loss: 4.4965e-04 - val_accuracy: 1.0000\n",
      "Epoch 6/10\n",
      "16/16 [==============================] - 6s 339ms/step - loss: 0.0290 - accuracy: 0.9896 - val_loss: 1.4375e-04 - val_accuracy: 1.0000\n",
      "Epoch 7/10\n",
      "16/16 [==============================] - 7s 384ms/step - loss: 0.0484 - accuracy: 0.9827 - val_loss: 5.0319e-04 - val_accuracy: 1.0000\n",
      "Epoch 8/10\n",
      "16/16 [==============================] - 7s 394ms/step - loss: 0.0587 - accuracy: 0.9833 - val_loss: 1.2245e-04 - val_accuracy: 1.0000\n",
      "Epoch 9/10\n",
      "16/16 [==============================] - 8s 411ms/step - loss: 0.0329 - accuracy: 0.9865 - val_loss: 5.5964e-05 - val_accuracy: 1.0000\n",
      "Epoch 10/10\n",
      "16/16 [==============================] - 8s 406ms/step - loss: 0.0156 - accuracy: 0.9946 - val_loss: 4.2447e-05 - val_accuracy: 1.0000\n"
     ]
    }
   ],
   "source": [
    "# create convolutional neural network model\n",
    "model = Sequential([\n",
    "  layers.experimental.preprocessing.Rescaling(1./255, input_shape=(160, 160, 3)),\n",
    "  layers.Conv2D(8, 3, padding='same', activation='relu'),\n",
    "  layers.MaxPooling2D(),\n",
    "  layers.Conv2D(16, 3, padding='same', activation='relu'),\n",
    "  layers.MaxPooling2D(),\n",
    "  layers.Conv2D(32, 3, padding='same', activation='relu'),\n",
    "  layers.MaxPooling2D(),\n",
    "  layers.Flatten(),\n",
    "  layers.Dense(128, activation='relu'),\n",
    "  layers.Dropout(0.2),\n",
    "  layers.Dense(32, activation='relu'),\n",
    "  layers.Dropout(0.2),\n",
    "  layers.Dense(num_of_classes)\n",
    "])\n",
    "\n",
    "# compile model and train\n",
    "model.compile(optimizer='adam',\n",
    "              loss=tf.keras.losses.SparseCategoricalCrossentropy(from_logits=True),\n",
    "              metrics=['accuracy'])\n",
    "\n",
    "history = model.fit(\n",
    "  train,\n",
    "  validation_data=validation,\n",
    "  epochs=EPOCHS\n",
    ")"
   ]
  },
  {
   "cell_type": "code",
   "execution_count": 26,
   "metadata": {},
   "outputs": [
    {
     "output_type": "stream",
     "name": "stdout",
     "text": [
      "4/4 [==============================] - 1s 98ms/step - loss: 4.2447e-05 - accuracy: 1.0000\n",
      "[validation] loss: 4.2446950828889385e-05  accuracy: 1.0\n"
     ]
    }
   ],
   "source": [
    "score = model.evaluate(validation)\n",
    "print('[validation] loss:', score[0], ' accuracy:', score[1])"
   ]
  },
  {
   "source": [
    "## Test model's performance by using the original 13 images used for data augmentation"
   ],
   "cell_type": "markdown",
   "metadata": {}
  },
  {
   "cell_type": "code",
   "execution_count": 29,
   "metadata": {},
   "outputs": [
    {
     "output_type": "stream",
     "name": "stdout",
     "text": [
      "Loading training dataset...\n",
      "Completed!\n",
      "Performing prediction...\n",
      "*******************\n",
      "Input image CHUN-LI 001.png\n",
      "predicted : CHUN-LI 001\n",
      "*******************\n",
      "Input image CHUN-LI 002.png\n",
      "predicted : CHUN-LI 002\n",
      "*******************\n",
      "Input image CHUN-LI 003.png\n",
      "predicted : CHUN-LI 003\n",
      "*******************\n",
      "Input image CHUN-LI 004.png\n",
      "predicted : CHUN-LI 004\n",
      "*******************\n",
      "Input image CHUN-LI 005.png\n",
      "predicted : CHUN-LI 005\n",
      "*******************\n",
      "Input image CHUN-LI 006.png\n",
      "predicted : CHUN-LI 006\n",
      "*******************\n",
      "Input image CHUN-LI 007.png\n",
      "predicted : CHUN-LI 007\n",
      "*******************\n",
      "Input image CHUN-LI 008.png\n",
      "predicted : CHUN-LI 008\n",
      "*******************\n",
      "Input image CHUN-LI 009.png\n",
      "predicted : CHUN-LI 009\n",
      "*******************\n",
      "Input image CHUN-LI 010.png\n",
      "predicted : CHUN-LI 010\n",
      "*******************\n",
      "Input image CHUN-LI 011.png\n",
      "predicted : CHUN-LI 011\n",
      "*******************\n",
      "Input image CHUN-LI 012.png\n",
      "predicted : CHUN-LI 012\n",
      "*******************\n",
      "Input image CHUN-LI 013.png\n",
      "predicted : CHUN-LI 012\n",
      "Completed!\n"
     ]
    }
   ],
   "source": [
    "PATH_TRAIN_DIR = PROJ_PATH + '\\\\dataset\\\\train\\\\'\n",
    "PATH_IMG_DIR = PROJ_PATH + '\\\\dataset\\\\images\\\\'\n",
    "\n",
    "labels = []\n",
    "print('Loading training dataset...')\n",
    "for index, directory in enumerate(os.listdir(PATH_TRAIN_DIR)):\n",
    "    labels.append(directory)\n",
    "print('Completed!')\n",
    "\n",
    "def prediction(card_path):\n",
    "    img = tf.keras.preprocessing.image.load_img(\n",
    "        card_path, target_size=(160, 160)\n",
    "    )\n",
    "    #plt.figure()\n",
    "    #plt.imshow(img)\n",
    "    img_array = tf.keras.preprocessing.image.img_to_array(img)\n",
    "    img_array = tf.expand_dims(img_array, 0) # Create a batch\n",
    "\n",
    "    prediction = model.predict(img_array)\n",
    "    print('predicted : ' + labels[np.argmax(prediction)])\n",
    "\n",
    "print('Performing prediction...')\n",
    "for index, filename in enumerate(os.listdir(PATH_IMG_DIR)):\n",
    "    print(\"*******************\")\n",
    "    print('Input image ' + filename)\n",
    "    prediction(card_path = PATH_IMG_DIR + filename)\n",
    "print('Completed!')"
   ]
  },
  {
   "cell_type": "code",
   "execution_count": null,
   "metadata": {},
   "outputs": [],
   "source": []
  }
 ]
}